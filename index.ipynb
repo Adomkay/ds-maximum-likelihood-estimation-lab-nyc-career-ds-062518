{
 "cells": [
  {
   "cell_type": "markdown",
   "metadata": {},
   "source": [
    "# Maximum Likelihood Estimation Lab\n",
    "\n",
    "## Problem Description\n",
    "\n",
    "In this lab, we'll explore _Maximum Likelihood Estimation_ and strategies for implementing it in python while making use of industry-standard tools such as the `scipy` library!\n",
    "\n",
    "## Objectives\n",
    "\n",
    "In this lab, we will:\n",
    "\n",
    "* Demonstrate a conceptual understanding of Maximum Likelihood Estimation, and what it is used for\n",
    "* Demonstrate synthetic datasets from multiple different distributions for practice with MLE\n",
    "* Demonstrate understanding as to why we use Negative Log Likelihood instead of Likelihood for MLE in python\n",
    "* Write a general-purpose function for Maximum Likelihood Estimation by using industry-standard packages such as `scipy`\n",
    "\n",
    "\n",
    "Run the cell below to import everything we'll need for this lab. "
   ]
  },
  {
   "cell_type": "code",
   "execution_count": 1,
   "metadata": {},
   "outputs": [],
   "source": [
    "import pandas as pd\n",
    "import numpy as np\n",
    "import matplotlib.pyplot as plt\n",
    "import seaborn as sns\n",
    "from scipy.stats import norm\n",
    "import statsmodels.api as sm\n",
    "from statsmodels.base.model import GenericLikelihoodModel\n",
    "from scipy.optimize import minimize"
   ]
  },
  {
   "cell_type": "markdown",
   "metadata": {},
   "source": [
    "### Probability vs. Likelihood\n",
    "\n",
    "Explain the difference between **_Probability_** and **_Likelihood_** below the line.  Use the two graphs below as aids for your explanation..    \n",
    "\n",
    "<center><h3>Probability</h3></center>\n",
    "<img src='probability.jpg' height=50% width=50%>\n",
    "<br>\n",
    "<br>\n",
    "<center><h3>Likelihood</h3></center>\n",
    "<img src='likelihood.jpg' height=50% width=50%>\n",
    "\n",
    "________________________________________________________________________________________________________________________________\n",
    "\n",
    "**_Probability_** is the amount of a distribution that falls between two different values in a distribution. When visualized, this amounts to the area under the curve between the two values of interest.  \n",
    "\n",
    "**_Likelihood_** is the value for a fixed data point given a distribution (note that the distribution can change).  When visualized, this amounts to the y-axis value for the data point given the distribution it is visualized against. \n",
    "\n",
    "\n",
    "\n",
    "### Generating Datasets From Different Distributions\n",
    "\n",
    "We're going to generate two different datasets to test our MLE function.  In the cell below:\n",
    "\n",
    "* Create a sample Gaussian Distribution using numpy with 10,000 values in it. \n",
    "* Create a sample Exponential Distribution using numpy with 10,000 values in it. \n",
    "* Use a distplot from seaborn to visualize the distribution of each. \n",
    "\n",
    "For each distribution, the scale parameter should equal 1.0 (this is the default parameter for both functions).  "
   ]
  },
  {
   "cell_type": "code",
   "execution_count": 11,
   "metadata": {},
   "outputs": [
    {
     "data": {
      "text/html": [
       "<div>\n",
       "<style scoped>\n",
       "    .dataframe tbody tr th:only-of-type {\n",
       "        vertical-align: middle;\n",
       "    }\n",
       "\n",
       "    .dataframe tbody tr th {\n",
       "        vertical-align: top;\n",
       "    }\n",
       "\n",
       "    .dataframe thead th {\n",
       "        text-align: right;\n",
       "    }\n",
       "</style>\n",
       "<table border=\"1\" class=\"dataframe\">\n",
       "  <thead>\n",
       "    <tr style=\"text-align: right;\">\n",
       "      <th></th>\n",
       "      <th>x</th>\n",
       "      <th>y</th>\n",
       "      <th>constant</th>\n",
       "    </tr>\n",
       "  </thead>\n",
       "  <tbody>\n",
       "    <tr>\n",
       "      <th>0</th>\n",
       "      <td>-0.559576</td>\n",
       "      <td>1.837071</td>\n",
       "      <td>1</td>\n",
       "    </tr>\n",
       "    <tr>\n",
       "      <th>1</th>\n",
       "      <td>0.267077</td>\n",
       "      <td>-0.497606</td>\n",
       "      <td>1</td>\n",
       "    </tr>\n",
       "    <tr>\n",
       "      <th>2</th>\n",
       "      <td>0.656983</td>\n",
       "      <td>0.033125</td>\n",
       "      <td>1</td>\n",
       "    </tr>\n",
       "    <tr>\n",
       "      <th>3</th>\n",
       "      <td>-0.101089</td>\n",
       "      <td>0.710458</td>\n",
       "      <td>1</td>\n",
       "    </tr>\n",
       "    <tr>\n",
       "      <th>4</th>\n",
       "      <td>0.135346</td>\n",
       "      <td>-1.154525</td>\n",
       "      <td>1</td>\n",
       "    </tr>\n",
       "  </tbody>\n",
       "</table>\n",
       "</div>"
      ],
      "text/plain": [
       "          x         y  constant\n",
       "0 -0.559576  1.837071         1\n",
       "1  0.267077 -0.497606         1\n",
       "2  0.656983  0.033125         1\n",
       "3 -0.101089  0.710458         1\n",
       "4  0.135346 -1.154525         1"
      ]
     },
     "execution_count": 11,
     "metadata": {},
     "output_type": "execute_result"
    }
   ],
   "source": [
    "# Generate Gaussian Distribution\n",
    "gaussian_x = 4 * np.random.normal(scale=1.0, size=10000) + 5\n",
    "gaussian_y = 3 + gaussian_x + np.random.normal(scale=1.0, size=10000)\n",
    "# Generate Exponential Distribution\n",
    "exponential_x = np.random.exponential(scale=1.0, size=(10000, 2))\n",
    "exponential_y = np.random.exponential(scale=1.0, size=(10000, 2))\n",
    "#\n",
    "\n",
    "gaussian_df = pd.DataFrame(gaussian, columns=['x', 'y'])\n",
    "exponential_df = pd.DataFrame(exponential, columns=['x', 'y'])\n",
    "gaussian_df['constant'] = 1\n",
    "exponential_df['constant'] = 1\n",
    "\n",
    "gaussian_df.head()\n",
    "\n",
    "# plt.plot()\n",
    "# display(sns.distplot(gaussian))\n",
    "# plt.show()\n",
    "# plt.plot()\n",
    "# sns.distplot(exponential)\n",
    "# plt.show()"
   ]
  },
  {
   "cell_type": "markdown",
   "metadata": {},
   "source": [
    "### Log Likelihood vs. Negative Log Likelihood\n",
    "\n",
    "In your own words, answer the following questions:\n",
    "\n",
    "Why do we use the log of likelihood rather than just likelihood?  In terms of optimization operations, what is the relationship between log likelihood and negative log likelihood?\n",
    "\n",
    "Bonus question: Why do we typically use negative log likelihood in python instead of likelihood or log likelihood? (This question may take a little research)\n",
    "\n",
    "Write your answer to these questions below this line:\n",
    "________________________________________________________________________________________________________________________________\n",
    "\n",
    "We use the log instead of the raw likelihood value to help us avoid integer overflow/underflow errors. Maximizing the Log Likelihood (LL) is the same as minimizing the Negative Log Likelihood(NLL).  This is the reason we use negative log likelihood in python--optimization libraries provide a minimize function, but not a maximize function.  Therefore, in order to use a minimizer, we must make use of NLL instead of LL. \n",
    "\n",
    "### Negative Log Likelihood\n",
    "\n",
    "In the cell below, complete the following negative log likelihood function. This function should take in an array of theta parameters and return the negative log likelihood for those parameters.  "
   ]
  },
  {
   "cell_type": "code",
   "execution_count": null,
   "metadata": {},
   "outputs": [],
   "source": [
    "def neg_log_likelihood(theta):\n",
    "    mu = theta[0] + x * theta[1]\n",
    "    return -1*norm(mu, theta[2]).logpdf(y).sum()"
   ]
  },
  {
   "cell_type": "markdown",
   "metadata": {},
   "source": [
    "### MLE from Scratch With Scipy"
   ]
  },
  {
   "cell_type": "code",
   "execution_count": null,
   "metadata": {},
   "outputs": [],
   "source": []
  },
  {
   "cell_type": "markdown",
   "metadata": {},
   "source": [
    "### MLE and MAP with PyMC3"
   ]
  },
  {
   "cell_type": "code",
   "execution_count": null,
   "metadata": {},
   "outputs": [],
   "source": []
  },
  {
   "cell_type": "markdown",
   "metadata": {},
   "source": [
    "### Conclusion"
   ]
  }
 ],
 "metadata": {
  "kernelspec": {
   "display_name": "Python 3",
   "language": "python",
   "name": "python3"
  },
  "language_info": {
   "codemirror_mode": {
    "name": "ipython",
    "version": 3
   },
   "file_extension": ".py",
   "mimetype": "text/x-python",
   "name": "python",
   "nbconvert_exporter": "python",
   "pygments_lexer": "ipython3",
   "version": "3.6.5"
  }
 },
 "nbformat": 4,
 "nbformat_minor": 2
}
